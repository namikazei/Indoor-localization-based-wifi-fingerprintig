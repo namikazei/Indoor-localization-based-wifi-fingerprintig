{
  "nbformat": 4,
  "nbformat_minor": 0,
  "metadata": {
    "kernelspec": {
      "display_name": "Python 3",
      "language": "python",
      "name": "python3"
    },
    "language_info": {
      "codemirror_mode": {
        "name": "ipython",
        "version": 3
      },
      "file_extension": ".py",
      "mimetype": "text/x-python",
      "name": "python",
      "nbconvert_exporter": "python",
      "pygments_lexer": "ipython3",
      "version": "3.7.4"
    },
    "colab": {
      "name": "WiFi_Locationing.ipynb",
      "provenance": []
    }
  },
  "cells": [
    {
      "cell_type": "markdown",
      "metadata": {
        "id": "V8KPEtH1f7z5",
        "colab_type": "text"
      },
      "source": [
        "# Wifi RSS Localization"
      ]
    },
    {
      "cell_type": "code",
      "metadata": {
        "id": "fi7fFfiLf7z6",
        "colab_type": "code",
        "colab": {}
      },
      "source": [
        "import numpy as np\n",
        "import pandas as pd\n",
        "import matplotlib.pyplot as plt\n",
        "import seaborn as sns"
      ],
      "execution_count": 0,
      "outputs": []
    },
    {
      "cell_type": "code",
      "metadata": {
        "id": "u91_fPnHf7z_",
        "colab_type": "code",
        "colab": {}
      },
      "source": [
        "# Random Forest\n",
        "from sklearn.ensemble import RandomForestClassifier\n",
        "\n",
        "# K-Nearest Neighbors\n",
        "from sklearn.neighbors import KNeighborsClassifier\n",
        "\n",
        "# Gaussian Naive Bayes\n",
        "from sklearn.naive_bayes import GaussianNB"
      ],
      "execution_count": 0,
      "outputs": []
    },
    {
      "cell_type": "code",
      "metadata": {
        "id": "Rmk0IjHUf70B",
        "colab_type": "code",
        "colab": {}
      },
      "source": [
        "from sklearn.metrics import classification_report\n",
        "from sklearn.metrics import confusion_matrix\n",
        "from sklearn.metrics import accuracy_score\n",
        "from sklearn.model_selection import train_test_split"
      ],
      "execution_count": 0,
      "outputs": []
    },
    
    {
      "cell_type": "markdown",
      "metadata": {
        "id": "6bAbNnHVf70H",
        "colab_type": "text"
      },
      "source": [
        "###### Data Set"
      ]
    },
    {
      "cell_type": "code",
      "metadata": {
        "id": "ye2k_Vupf70H",
        "colab_type": "code",
        "colab": {}
      },
      "source": [
        "train = pd.read_csv('TrainingData.csv', header = 0)"
      ],
      "execution_count": 0,
      "outputs": []
    },
    {
      "cell_type": "code",
      "metadata": {
        "id": "wSVeSfBbf70K",
        "colab_type": "code",
        "colab": {},
        "outputId": "761d7c35-5145-404b-b5a6-3d3ba19d3f2a"
      },
      "source": [
        "# informations sur les données\n",
        "train.info()"
      ],
      "execution_count": 0,
      "outputs": [
        {
          "output_type": "stream",
          "text": [
            "<class 'pandas.core.frame.DataFrame'>\n",
            "RangeIndex: 19937 entries, 0 to 19936\n",
            "Columns: 529 entries, WAP001 to TIMESTAMP\n",
            "dtypes: float64(2), int64(527)\n",
            "memory usage: 80.5 MB\n"
          ],
          "name": "stdout"
        }
      ]
    },
    {
      "cell_type": "code",
      "metadata": {
        "id": "FFIyETPAf70N",
        "colab_type": "code",
        "colab": {},
        "outputId": "9bb19734-2231-43ad-e7af-193115be139b"
      },
      "source": [
        "train.head()"
      ],
      "execution_count": 0,
      "outputs": [
        {
          "output_type": "execute_result",
          "data": {
            "text/html": [
              "<div>\n",
              "<style scoped>\n",
              "    .dataframe tbody tr th:only-of-type {\n",
              "        vertical-align: middle;\n",
              "    }\n",
              "\n",
              "    .dataframe tbody tr th {\n",
              "        vertical-align: top;\n",
              "    }\n",
              "\n",
              "    .dataframe thead th {\n",
              "        text-align: right;\n",
              "    }\n",
              "</style>\n",
              "<table border=\"1\" class=\"dataframe\">\n",
              "  <thead>\n",
              "    <tr style=\"text-align: right;\">\n",
              "      <th></th>\n",
              "      <th>WAP001</th>\n",
              "      <th>WAP002</th>\n",
              "      <th>WAP003</th>\n",
              "      <th>WAP004</th>\n",
              "      <th>WAP005</th>\n",
              "      <th>WAP006</th>\n",
              "      <th>WAP007</th>\n",
              "      <th>WAP008</th>\n",
              "      <th>WAP009</th>\n",
              "      <th>WAP010</th>\n",
              "      <th>...</th>\n",
              "      <th>WAP520</th>\n",
              "      <th>LONGITUDE</th>\n",
              "      <th>LATITUDE</th>\n",
              "      <th>FLOOR</th>\n",
              "      <th>BUILDINGID</th>\n",
              "      <th>SPACEID</th>\n",
              "      <th>RELATIVEPOSITION</th>\n",
              "      <th>USERID</th>\n",
              "      <th>PHONEID</th>\n",
              "      <th>TIMESTAMP</th>\n",
              "    </tr>\n",
              "  </thead>\n",
              "  <tbody>\n",
              "    <tr>\n",
              "      <td>0</td>\n",
              "      <td>100</td>\n",
              "      <td>100</td>\n",
              "      <td>100</td>\n",
              "      <td>100</td>\n",
              "      <td>100</td>\n",
              "      <td>100</td>\n",
              "      <td>100</td>\n",
              "      <td>100</td>\n",
              "      <td>100</td>\n",
              "      <td>100</td>\n",
              "      <td>...</td>\n",
              "      <td>100</td>\n",
              "      <td>-7541.2643</td>\n",
              "      <td>4.864921e+06</td>\n",
              "      <td>2</td>\n",
              "      <td>1</td>\n",
              "      <td>106</td>\n",
              "      <td>2</td>\n",
              "      <td>2</td>\n",
              "      <td>23</td>\n",
              "      <td>1371713733</td>\n",
              "    </tr>\n",
              "    <tr>\n",
              "      <td>1</td>\n",
              "      <td>100</td>\n",
              "      <td>100</td>\n",
              "      <td>100</td>\n",
              "      <td>100</td>\n",
              "      <td>100</td>\n",
              "      <td>100</td>\n",
              "      <td>100</td>\n",
              "      <td>100</td>\n",
              "      <td>100</td>\n",
              "      <td>100</td>\n",
              "      <td>...</td>\n",
              "      <td>100</td>\n",
              "      <td>-7536.6212</td>\n",
              "      <td>4.864934e+06</td>\n",
              "      <td>2</td>\n",
              "      <td>1</td>\n",
              "      <td>106</td>\n",
              "      <td>2</td>\n",
              "      <td>2</td>\n",
              "      <td>23</td>\n",
              "      <td>1371713691</td>\n",
              "    </tr>\n",
              "    <tr>\n",
              "      <td>2</td>\n",
              "      <td>100</td>\n",
              "      <td>100</td>\n",
              "      <td>100</td>\n",
              "      <td>100</td>\n",
              "      <td>100</td>\n",
              "      <td>100</td>\n",
              "      <td>100</td>\n",
              "      <td>-97</td>\n",
              "      <td>100</td>\n",
              "      <td>100</td>\n",
              "      <td>...</td>\n",
              "      <td>100</td>\n",
              "      <td>-7519.1524</td>\n",
              "      <td>4.864950e+06</td>\n",
              "      <td>2</td>\n",
              "      <td>1</td>\n",
              "      <td>103</td>\n",
              "      <td>2</td>\n",
              "      <td>2</td>\n",
              "      <td>23</td>\n",
              "      <td>1371714095</td>\n",
              "    </tr>\n",
              "    <tr>\n",
              "      <td>3</td>\n",
              "      <td>100</td>\n",
              "      <td>100</td>\n",
              "      <td>100</td>\n",
              "      <td>100</td>\n",
              "      <td>100</td>\n",
              "      <td>100</td>\n",
              "      <td>100</td>\n",
              "      <td>100</td>\n",
              "      <td>100</td>\n",
              "      <td>100</td>\n",
              "      <td>...</td>\n",
              "      <td>100</td>\n",
              "      <td>-7524.5704</td>\n",
              "      <td>4.864934e+06</td>\n",
              "      <td>2</td>\n",
              "      <td>1</td>\n",
              "      <td>102</td>\n",
              "      <td>2</td>\n",
              "      <td>2</td>\n",
              "      <td>23</td>\n",
              "      <td>1371713807</td>\n",
              "    </tr>\n",
              "    <tr>\n",
              "      <td>4</td>\n",
              "      <td>100</td>\n",
              "      <td>100</td>\n",
              "      <td>100</td>\n",
              "      <td>100</td>\n",
              "      <td>100</td>\n",
              "      <td>100</td>\n",
              "      <td>100</td>\n",
              "      <td>100</td>\n",
              "      <td>100</td>\n",
              "      <td>100</td>\n",
              "      <td>...</td>\n",
              "      <td>100</td>\n",
              "      <td>-7632.1436</td>\n",
              "      <td>4.864982e+06</td>\n",
              "      <td>0</td>\n",
              "      <td>0</td>\n",
              "      <td>122</td>\n",
              "      <td>2</td>\n",
              "      <td>11</td>\n",
              "      <td>13</td>\n",
              "      <td>1369909710</td>\n",
              "    </tr>\n",
              "  </tbody>\n",
              "</table>\n",
              "<p>5 rows × 529 columns</p>\n",
              "</div>"
            ],
            "text/plain": [
              "   WAP001  WAP002  WAP003  WAP004  WAP005  WAP006  WAP007  WAP008  WAP009  \\\n",
              "0     100     100     100     100     100     100     100     100     100   \n",
              "1     100     100     100     100     100     100     100     100     100   \n",
              "2     100     100     100     100     100     100     100     -97     100   \n",
              "3     100     100     100     100     100     100     100     100     100   \n",
              "4     100     100     100     100     100     100     100     100     100   \n",
              "\n",
              "   WAP010  ...  WAP520  LONGITUDE      LATITUDE  FLOOR  BUILDINGID  SPACEID  \\\n",
              "0     100  ...     100 -7541.2643  4.864921e+06      2           1      106   \n",
              "1     100  ...     100 -7536.6212  4.864934e+06      2           1      106   \n",
              "2     100  ...     100 -7519.1524  4.864950e+06      2           1      103   \n",
              "3     100  ...     100 -7524.5704  4.864934e+06      2           1      102   \n",
              "4     100  ...     100 -7632.1436  4.864982e+06      0           0      122   \n",
              "\n",
              "   RELATIVEPOSITION  USERID  PHONEID   TIMESTAMP  \n",
              "0                 2       2       23  1371713733  \n",
              "1                 2       2       23  1371713691  \n",
              "2                 2       2       23  1371714095  \n",
              "3                 2       2       23  1371713807  \n",
              "4                 2      11       13  1369909710  \n",
              "\n",
              "[5 rows x 529 columns]"
            ]
          },
          "metadata": {
            "tags": []
          },
          "execution_count": 8
        }
      ]
    },
    {
      "cell_type": "code",
      "metadata": {
        "id": "BkI4eFR8f70P",
        "colab_type": "code",
        "colab": {},
        "outputId": "8136c040-0e9c-45a6-86d8-acddae714d53"
      },
      "source": [
        "# s'assurer qu'aucune donnée est null\n",
        "train.isnull().any()"
      ],
      "execution_count": 0,
      "outputs": [
        {
          "output_type": "execute_result",
          "data": {
            "text/plain": [
              "WAP001              False\n",
              "WAP002              False\n",
              "WAP003              False\n",
              "WAP004              False\n",
              "WAP005              False\n",
              "                    ...  \n",
              "SPACEID             False\n",
              "RELATIVEPOSITION    False\n",
              "USERID              False\n",
              "PHONEID             False\n",
              "TIMESTAMP           False\n",
              "Length: 529, dtype: bool"
            ]
          },
          "metadata": {
            "tags": []
          },
          "execution_count": 9
        }
      ]
    },
    {
      "cell_type": "code",
      "metadata": {
        "scrolled": true,
        "id": "OwCcjGfxf70R",
        "colab_type": "code",
        "colab": {},
        "outputId": "fb139b99-c7e0-4c5c-9955-e79fbf5e680e"
      },
      "source": [
        "lastindice = train.iloc[:, 520:529]\n",
        "lastindice.describe().transpose()"
      ],
      "execution_count": 0,
      "outputs": [
        {
          "output_type": "execute_result",
          "data": {
            "text/html": [
              "<div>\n",
              "<style scoped>\n",
              "    .dataframe tbody tr th:only-of-type {\n",
              "        vertical-align: middle;\n",
              "    }\n",
              "\n",
              "    .dataframe tbody tr th {\n",
              "        vertical-align: top;\n",
              "    }\n",
              "\n",
              "    .dataframe thead th {\n",
              "        text-align: right;\n",
              "    }\n",
              "</style>\n",
              "<table border=\"1\" class=\"dataframe\">\n",
              "  <thead>\n",
              "    <tr style=\"text-align: right;\">\n",
              "      <th></th>\n",
              "      <th>count</th>\n",
              "      <th>mean</th>\n",
              "      <th>std</th>\n",
              "      <th>min</th>\n",
              "      <th>25%</th>\n",
              "      <th>50%</th>\n",
              "      <th>75%</th>\n",
              "      <th>max</th>\n",
              "    </tr>\n",
              "  </thead>\n",
              "  <tbody>\n",
              "    <tr>\n",
              "      <td>LONGITUDE</td>\n",
              "      <td>19937.0</td>\n",
              "      <td>-7.464276e+03</td>\n",
              "      <td>123.402010</td>\n",
              "      <td>-7.691338e+03</td>\n",
              "      <td>-7.594737e+03</td>\n",
              "      <td>-7.423061e+03</td>\n",
              "      <td>-7.359193e+03</td>\n",
              "      <td>-7.300819e+03</td>\n",
              "    </tr>\n",
              "    <tr>\n",
              "      <td>LATITUDE</td>\n",
              "      <td>19937.0</td>\n",
              "      <td>4.864871e+06</td>\n",
              "      <td>66.933183</td>\n",
              "      <td>4.864746e+06</td>\n",
              "      <td>4.864821e+06</td>\n",
              "      <td>4.864852e+06</td>\n",
              "      <td>4.864930e+06</td>\n",
              "      <td>4.865017e+06</td>\n",
              "    </tr>\n",
              "    <tr>\n",
              "      <td>FLOOR</td>\n",
              "      <td>19937.0</td>\n",
              "      <td>1.674575e+00</td>\n",
              "      <td>1.223078</td>\n",
              "      <td>0.000000e+00</td>\n",
              "      <td>1.000000e+00</td>\n",
              "      <td>2.000000e+00</td>\n",
              "      <td>3.000000e+00</td>\n",
              "      <td>4.000000e+00</td>\n",
              "    </tr>\n",
              "    <tr>\n",
              "      <td>BUILDINGID</td>\n",
              "      <td>19937.0</td>\n",
              "      <td>1.212820e+00</td>\n",
              "      <td>0.833139</td>\n",
              "      <td>0.000000e+00</td>\n",
              "      <td>0.000000e+00</td>\n",
              "      <td>1.000000e+00</td>\n",
              "      <td>2.000000e+00</td>\n",
              "      <td>2.000000e+00</td>\n",
              "    </tr>\n",
              "    <tr>\n",
              "      <td>SPACEID</td>\n",
              "      <td>19937.0</td>\n",
              "      <td>1.484300e+02</td>\n",
              "      <td>58.342106</td>\n",
              "      <td>1.000000e+00</td>\n",
              "      <td>1.100000e+02</td>\n",
              "      <td>1.290000e+02</td>\n",
              "      <td>2.070000e+02</td>\n",
              "      <td>2.540000e+02</td>\n",
              "    </tr>\n",
              "    <tr>\n",
              "      <td>RELATIVEPOSITION</td>\n",
              "      <td>19937.0</td>\n",
              "      <td>1.833024e+00</td>\n",
              "      <td>0.372964</td>\n",
              "      <td>1.000000e+00</td>\n",
              "      <td>2.000000e+00</td>\n",
              "      <td>2.000000e+00</td>\n",
              "      <td>2.000000e+00</td>\n",
              "      <td>2.000000e+00</td>\n",
              "    </tr>\n",
              "    <tr>\n",
              "      <td>USERID</td>\n",
              "      <td>19937.0</td>\n",
              "      <td>9.068014e+00</td>\n",
              "      <td>4.988720</td>\n",
              "      <td>1.000000e+00</td>\n",
              "      <td>5.000000e+00</td>\n",
              "      <td>1.100000e+01</td>\n",
              "      <td>1.300000e+01</td>\n",
              "      <td>1.800000e+01</td>\n",
              "    </tr>\n",
              "    <tr>\n",
              "      <td>PHONEID</td>\n",
              "      <td>19937.0</td>\n",
              "      <td>1.302187e+01</td>\n",
              "      <td>5.362410</td>\n",
              "      <td>1.000000e+00</td>\n",
              "      <td>8.000000e+00</td>\n",
              "      <td>1.300000e+01</td>\n",
              "      <td>1.400000e+01</td>\n",
              "      <td>2.400000e+01</td>\n",
              "    </tr>\n",
              "    <tr>\n",
              "      <td>TIMESTAMP</td>\n",
              "      <td>19937.0</td>\n",
              "      <td>1.371421e+09</td>\n",
              "      <td>557205.399312</td>\n",
              "      <td>1.369909e+09</td>\n",
              "      <td>1.371056e+09</td>\n",
              "      <td>1.371716e+09</td>\n",
              "      <td>1.371721e+09</td>\n",
              "      <td>1.371738e+09</td>\n",
              "    </tr>\n",
              "  </tbody>\n",
              "</table>\n",
              "</div>"
            ],
            "text/plain": [
              "                    count          mean            std           min  \\\n",
              "LONGITUDE         19937.0 -7.464276e+03     123.402010 -7.691338e+03   \n",
              "LATITUDE          19937.0  4.864871e+06      66.933183  4.864746e+06   \n",
              "FLOOR             19937.0  1.674575e+00       1.223078  0.000000e+00   \n",
              "BUILDINGID        19937.0  1.212820e+00       0.833139  0.000000e+00   \n",
              "SPACEID           19937.0  1.484300e+02      58.342106  1.000000e+00   \n",
              "RELATIVEPOSITION  19937.0  1.833024e+00       0.372964  1.000000e+00   \n",
              "USERID            19937.0  9.068014e+00       4.988720  1.000000e+00   \n",
              "PHONEID           19937.0  1.302187e+01       5.362410  1.000000e+00   \n",
              "TIMESTAMP         19937.0  1.371421e+09  557205.399312  1.369909e+09   \n",
              "\n",
              "                           25%           50%           75%           max  \n",
              "LONGITUDE        -7.594737e+03 -7.423061e+03 -7.359193e+03 -7.300819e+03  \n",
              "LATITUDE          4.864821e+06  4.864852e+06  4.864930e+06  4.865017e+06  \n",
              "FLOOR             1.000000e+00  2.000000e+00  3.000000e+00  4.000000e+00  \n",
              "BUILDINGID        0.000000e+00  1.000000e+00  2.000000e+00  2.000000e+00  \n",
              "SPACEID           1.100000e+02  1.290000e+02  2.070000e+02  2.540000e+02  \n",
              "RELATIVEPOSITION  2.000000e+00  2.000000e+00  2.000000e+00  2.000000e+00  \n",
              "USERID            5.000000e+00  1.100000e+01  1.300000e+01  1.800000e+01  \n",
              "PHONEID           8.000000e+00  1.300000e+01  1.400000e+01  2.400000e+01  \n",
              "TIMESTAMP         1.371056e+09  1.371716e+09  1.371721e+09  1.371738e+09  "
            ]
          },
          "metadata": {
            "tags": []
          },
          "execution_count": 10
        }
      ]
    },
    {
      "cell_type": "code",
      "metadata": {
        "scrolled": true,
        "id": "e6CjM4Uuf70U",
        "colab_type": "code",
        "colab": {},
        "outputId": "c2bd9c20-0443-48f3-fcdc-caf8d6263384"
      },
      "source": [
        "# afficher les données réelles recoltées\n",
        "plt.scatter(train['LONGITUDE'], train['LATITUDE'])"
      ],
      "execution_count": 0,
      "outputs": [
        {
          "output_type": "execute_result",
          "data": {
            "text/plain": [
              "<matplotlib.collections.PathCollection at 0x1daafc5f448>"
            ]
          },
          "metadata": {
            "tags": []
          },
          "execution_count": 11
        },
        {
          "output_type": "display_data",
          "data": {
            "image/png": "[encoded data removed]",
            "text/plain": [
              "<Figure size 432x288 with 1 Axes>"
            ]
          },
          "metadata": {
            "tags": [],
            "needs_background": "light"
          }
        }
      ]
    },
    {
      "cell_type": "markdown",
      "metadata": {
        "id": "e8av66mXf70W",
        "colab_type": "text"
      },
      "source": [
        "###### Histograms"
      ]
    },
    {
      "cell_type": "code",
      "metadata": {
        "id": "1poQUrThf70X",
        "colab_type": "code",
        "colab": {},
        "outputId": "24523576-ef82-49a8-e0bc-93d1ef8a0fee"
      },
      "source": [
        "train.iloc[:, 520:529].hist(bins=50, figsize=(20,15))\n",
        "plt.show()"
      ],
      "execution_count": 0,
      "outputs": [
        {
          "output_type": "display_data",
          "data": {
            "image/png": "[encoded data removed]",
            "text/plain": [
              "<Figure size 1440x1080 with 9 Axes>"
            ]
          },
          "metadata": {
            "tags": [],
            "needs_background": "light"
          }
        }
      ]
    },
    {
      "cell_type": "markdown",
      "metadata": {
        "id": "ZjvIoJ1Hf70Z",
        "colab_type": "text"
      },
      "source": [
        "# Pretraitements"
      ]
    },
    {
      "cell_type": "code",
      "metadata": {
        "id": "-1YGfQ-lf70a",
        "colab_type": "code",
        "colab": {}
      },
      "source": [
        "# une copie des données d'entrainnement\n",
        "trainingDF = train.copy(deep=True)"
      ],
      "execution_count": 0,
      "outputs": []
    },
    {
      "cell_type": "code",
      "metadata": {
        "id": "evKPxAz8f70c",
        "colab_type": "code",
        "colab": {}
      },
      "source": [
        "# puisqu'il ya 3 batiment on ne va utiliser que le premier id = 0\n",
        "\n",
        "trainingDF_B0 = trainingDF[trainingDF['BUILDINGID'] == 0]"
      ],
      "execution_count": 0,
      "outputs": []
    },
    {
      "cell_type": "code",
      "metadata": {
        "id": "8jD3hfyRf70e",
        "colab_type": "code",
        "colab": {},
        "outputId": "766a32e6-9468-42a3-95ef-96befe70fffe"
      },
      "source": [
        "plt.scatter(trainingDF_B0['LONGITUDE'], trainingDF_B0['LATITUDE'])"
      ],
      "execution_count": 0,
      "outputs": [
        {
          "output_type": "execute_result",
          "data": {
            "text/plain": [
              "<matplotlib.collections.PathCollection at 0x1dac5b306c8>"
            ]
          },
          "metadata": {
            "tags": []
          },
          "execution_count": 19
        },
        {
          "output_type": "display_data",
          "data": {
            "image/png": "[encoded data removed]",
            "text/plain": [
              "<Figure size 432x288 with 1 Axes>"
            ]
          },
          "metadata": {
            "tags": [],
            "needs_background": "light"
          }
        }
      ]
    },
    {
      "cell_type": "code",
      "metadata": {
        "id": "OV4LJtOhf70g",
        "colab_type": "code",
        "colab": {},
        "outputId": "8f0f2f25-668f-4fd2-f5c9-726e5d83ad1e"
      },
      "source": [
        "# Créer un unique ID pour chaque position dans le building 0\n",
        "# Combinaison de floor, relativeposition, spaceid\n",
        "\n",
        "trainingDF_B0['u_id'] = trainingDF_B0['FLOOR'].map(str) + trainingDF_B0['SPACEID'].map(str) + trainingDF_B0['RELATIVEPOSITION'].map(str)"
      ],
      "execution_count": 0,
      "outputs": [
        {
          "output_type": "stream",
          "text": [
            "C:\\Users\\Massinissa\\AppData\\Roaming\\Python\\Python37\\site-packages\\ipykernel_launcher.py:4: SettingWithCopyWarning: \n",
            "A value is trying to be set on a copy of a slice from a DataFrame.\n",
            "Try using .loc[row_indexer,col_indexer] = value instead\n",
            "\n",
            "See the caveats in the documentation: http://pandas.pydata.org/pandas-docs/stable/user_guide/indexing.html#returning-a-view-versus-a-copy\n",
            "  after removing the cwd from sys.path.\n"
          ],
          "name": "stderr"
        }
      ]
    },
    {
      "cell_type": "code",
      "metadata": {
        "scrolled": true,
        "id": "arG-VJIIf70i",
        "colab_type": "code",
        "colab": {},
        "outputId": "ea483ac7-1e93-4b5f-8abc-ee70704d1a56"
      },
      "source": [
        "trainingDF_B0.head()"
      ],
      "execution_count": 0,
      "outputs": [
        {
          "output_type": "execute_result",
          "data": {
            "text/html": [
              "<div>\n",
              "<style scoped>\n",
              "    .dataframe tbody tr th:only-of-type {\n",
              "        vertical-align: middle;\n",
              "    }\n",
              "\n",
              "    .dataframe tbody tr th {\n",
              "        vertical-align: top;\n",
              "    }\n",
              "\n",
              "    .dataframe thead th {\n",
              "        text-align: right;\n",
              "    }\n",
              "</style>\n",
              "<table border=\"1\" class=\"dataframe\">\n",
              "  <thead>\n",
              "    <tr style=\"text-align: right;\">\n",
              "      <th></th>\n",
              "      <th>WAP001</th>\n",
              "      <th>WAP002</th>\n",
              "      <th>WAP003</th>\n",
              "      <th>WAP004</th>\n",
              "      <th>WAP005</th>\n",
              "      <th>WAP006</th>\n",
              "      <th>WAP007</th>\n",
              "      <th>WAP008</th>\n",
              "      <th>WAP009</th>\n",
              "      <th>WAP010</th>\n",
              "      <th>...</th>\n",
              "      <th>LONGITUDE</th>\n",
              "      <th>LATITUDE</th>\n",
              "      <th>FLOOR</th>\n",
              "      <th>BUILDINGID</th>\n",
              "      <th>SPACEID</th>\n",
              "      <th>RELATIVEPOSITION</th>\n",
              "      <th>USERID</th>\n",
              "      <th>PHONEID</th>\n",
              "      <th>TIMESTAMP</th>\n",
              "      <th>u_id</th>\n",
              "    </tr>\n",
              "  </thead>\n",
              "  <tbody>\n",
              "    <tr>\n",
              "      <td>4</td>\n",
              "      <td>100</td>\n",
              "      <td>100</td>\n",
              "      <td>100</td>\n",
              "      <td>100</td>\n",
              "      <td>100</td>\n",
              "      <td>100</td>\n",
              "      <td>100</td>\n",
              "      <td>100</td>\n",
              "      <td>100</td>\n",
              "      <td>100</td>\n",
              "      <td>...</td>\n",
              "      <td>-7632.1436</td>\n",
              "      <td>4.864982e+06</td>\n",
              "      <td>0</td>\n",
              "      <td>0</td>\n",
              "      <td>122</td>\n",
              "      <td>2</td>\n",
              "      <td>11</td>\n",
              "      <td>13</td>\n",
              "      <td>1369909710</td>\n",
              "      <td>01222</td>\n",
              "    </tr>\n",
              "    <tr>\n",
              "      <td>7119</td>\n",
              "      <td>100</td>\n",
              "      <td>100</td>\n",
              "      <td>100</td>\n",
              "      <td>100</td>\n",
              "      <td>100</td>\n",
              "      <td>100</td>\n",
              "      <td>100</td>\n",
              "      <td>100</td>\n",
              "      <td>100</td>\n",
              "      <td>100</td>\n",
              "      <td>...</td>\n",
              "      <td>-7637.2570</td>\n",
              "      <td>4.864950e+06</td>\n",
              "      <td>0</td>\n",
              "      <td>0</td>\n",
              "      <td>102</td>\n",
              "      <td>2</td>\n",
              "      <td>11</td>\n",
              "      <td>13</td>\n",
              "      <td>1369908951</td>\n",
              "      <td>01022</td>\n",
              "    </tr>\n",
              "    <tr>\n",
              "      <td>7120</td>\n",
              "      <td>100</td>\n",
              "      <td>100</td>\n",
              "      <td>100</td>\n",
              "      <td>100</td>\n",
              "      <td>100</td>\n",
              "      <td>100</td>\n",
              "      <td>100</td>\n",
              "      <td>100</td>\n",
              "      <td>100</td>\n",
              "      <td>100</td>\n",
              "      <td>...</td>\n",
              "      <td>-7628.1345</td>\n",
              "      <td>4.864977e+06</td>\n",
              "      <td>0</td>\n",
              "      <td>0</td>\n",
              "      <td>110</td>\n",
              "      <td>2</td>\n",
              "      <td>11</td>\n",
              "      <td>13</td>\n",
              "      <td>1369909107</td>\n",
              "      <td>01102</td>\n",
              "    </tr>\n",
              "    <tr>\n",
              "      <td>7121</td>\n",
              "      <td>100</td>\n",
              "      <td>100</td>\n",
              "      <td>100</td>\n",
              "      <td>100</td>\n",
              "      <td>100</td>\n",
              "      <td>100</td>\n",
              "      <td>100</td>\n",
              "      <td>100</td>\n",
              "      <td>100</td>\n",
              "      <td>100</td>\n",
              "      <td>...</td>\n",
              "      <td>-7622.0546</td>\n",
              "      <td>4.864976e+06</td>\n",
              "      <td>0</td>\n",
              "      <td>0</td>\n",
              "      <td>111</td>\n",
              "      <td>2</td>\n",
              "      <td>11</td>\n",
              "      <td>13</td>\n",
              "      <td>1369909166</td>\n",
              "      <td>01112</td>\n",
              "    </tr>\n",
              "    <tr>\n",
              "      <td>7122</td>\n",
              "      <td>100</td>\n",
              "      <td>100</td>\n",
              "      <td>100</td>\n",
              "      <td>100</td>\n",
              "      <td>100</td>\n",
              "      <td>100</td>\n",
              "      <td>100</td>\n",
              "      <td>100</td>\n",
              "      <td>100</td>\n",
              "      <td>100</td>\n",
              "      <td>...</td>\n",
              "      <td>-7636.2057</td>\n",
              "      <td>4.864967e+06</td>\n",
              "      <td>0</td>\n",
              "      <td>0</td>\n",
              "      <td>107</td>\n",
              "      <td>2</td>\n",
              "      <td>11</td>\n",
              "      <td>13</td>\n",
              "      <td>1369909011</td>\n",
              "      <td>01072</td>\n",
              "    </tr>\n",
              "  </tbody>\n",
              "</table>\n",
              "<p>5 rows × 530 columns</p>\n",
              "</div>"
            ],
            "text/plain": [
              "      WAP001  WAP002  WAP003  WAP004  WAP005  WAP006  WAP007  WAP008  WAP009  \\\n",
              "4        100     100     100     100     100     100     100     100     100   \n",
              "7119     100     100     100     100     100     100     100     100     100   \n",
              "7120     100     100     100     100     100     100     100     100     100   \n",
              "7121     100     100     100     100     100     100     100     100     100   \n",
              "7122     100     100     100     100     100     100     100     100     100   \n",
              "\n",
              "      WAP010  ...  LONGITUDE      LATITUDE  FLOOR  BUILDINGID  SPACEID  \\\n",
              "4        100  ... -7632.1436  4.864982e+06      0           0      122   \n",
              "7119     100  ... -7637.2570  4.864950e+06      0           0      102   \n",
              "7120     100  ... -7628.1345  4.864977e+06      0           0      110   \n",
              "7121     100  ... -7622.0546  4.864976e+06      0           0      111   \n",
              "7122     100  ... -7636.2057  4.864967e+06      0           0      107   \n",
              "\n",
              "      RELATIVEPOSITION  USERID  PHONEID   TIMESTAMP   u_id  \n",
              "4                    2      11       13  1369909710  01222  \n",
              "7119                 2      11       13  1369908951  01022  \n",
              "7120                 2      11       13  1369909107  01102  \n",
              "7121                 2      11       13  1369909166  01112  \n",
              "7122                 2      11       13  1369909011  01072  \n",
              "\n",
              "[5 rows x 530 columns]"
            ]
          },
          "metadata": {
            "tags": []
          },
          "execution_count": 23
        }
      ]
    },
    {
      "cell_type": "code",
      "metadata": {
        "scrolled": true,
        "id": "TNqQzB1df70k",
        "colab_type": "code",
        "colab": {},
        "outputId": "36d936dc-35ff-4bc3-e20e-64432296858d"
      },
      "source": [
        "print(\"nombre de position total :\",trainingDF_B0['u_id'].count())\n",
        "print(trainingDF_B0['u_id'].value_counts())"
      ],
      "execution_count": 0,
      "outputs": [
        {
          "output_type": "stream",
          "text": [
            "nombre de position total : 5249\n",
            "01202    42\n",
            "22312    30\n",
            "32012    30\n",
            "32222    30\n",
            "32362    30\n",
            "         ..\n",
            "01072    10\n",
            "22141    10\n",
            "02262    10\n",
            "11372    10\n",
            "21281     9\n",
            "Name: u_id, Length: 259, dtype: int64\n"
          ],
          "name": "stdout"
        }
      ]
    },
    {
      "cell_type": "code",
      "metadata": {
        "scrolled": true,
        "id": "zVC0A6-Uf70m",
        "colab_type": "code",
        "colab": {}
      },
      "source": [
        "# Supprimer les colonnes inutiles pour la prediction\n",
        "# Longitude, latitude, floor, buildingid, spaceid, relativeposition,, userid, phoneid, timestamp\n",
        "\n",
        "trainingDF_B0.drop(['LONGITUDE', 'LATITUDE', 'FLOOR', 'BUILDINGID', 'SPACEID', \n",
        "                    'RELATIVEPOSITION', 'USERID', 'PHONEID', 'TIMESTAMP'], axis=1, inplace=True)"
      ],
      "execution_count": 0,
      "outputs": []
    },
    {
      "cell_type": "code",
      "metadata": {
        "scrolled": true,
        "id": "pbj3fStqf70o",
        "colab_type": "code",
        "colab": {},
        "outputId": "95f94e3b-1813-402d-f889-b66cfd7e33ed"
      },
      "source": [
        "trainingDF_B0.head()"
      ],
      "execution_count": 0,
      "outputs": [
        {
          "output_type": "execute_result",
          "data": {
            "text/html": [
              "<div>\n",
              "<style scoped>\n",
              "    .dataframe tbody tr th:only-of-type {\n",
              "        vertical-align: middle;\n",
              "    }\n",
              "\n",
              "    .dataframe tbody tr th {\n",
              "        vertical-align: top;\n",
              "    }\n",
              "\n",
              "    .dataframe thead th {\n",
              "        text-align: right;\n",
              "    }\n",
              "</style>\n",
              "<table border=\"1\" class=\"dataframe\">\n",
              "  <thead>\n",
              "    <tr style=\"text-align: right;\">\n",
              "      <th></th>\n",
              "      <th>WAP001</th>\n",
              "      <th>WAP002</th>\n",
              "      <th>WAP003</th>\n",
              "      <th>WAP004</th>\n",
              "      <th>WAP005</th>\n",
              "      <th>WAP006</th>\n",
              "      <th>WAP007</th>\n",
              "      <th>WAP008</th>\n",
              "      <th>WAP009</th>\n",
              "      <th>WAP010</th>\n",
              "      <th>...</th>\n",
              "      <th>WAP512</th>\n",
              "      <th>WAP513</th>\n",
              "      <th>WAP514</th>\n",
              "      <th>WAP515</th>\n",
              "      <th>WAP516</th>\n",
              "      <th>WAP517</th>\n",
              "      <th>WAP518</th>\n",
              "      <th>WAP519</th>\n",
              "      <th>WAP520</th>\n",
              "      <th>u_id</th>\n",
              "    </tr>\n",
              "  </thead>\n",
              "  <tbody>\n",
              "    <tr>\n",
              "      <td>4</td>\n",
              "      <td>100</td>\n",
              "      <td>100</td>\n",
              "      <td>100</td>\n",
              "      <td>100</td>\n",
              "      <td>100</td>\n",
              "      <td>100</td>\n",
              "      <td>100</td>\n",
              "      <td>100</td>\n",
              "      <td>100</td>\n",
              "      <td>100</td>\n",
              "      <td>...</td>\n",
              "      <td>100</td>\n",
              "      <td>100</td>\n",
              "      <td>100</td>\n",
              "      <td>100</td>\n",
              "      <td>100</td>\n",
              "      <td>100</td>\n",
              "      <td>100</td>\n",
              "      <td>100</td>\n",
              "      <td>100</td>\n",
              "      <td>01222</td>\n",
              "    </tr>\n",
              "    <tr>\n",
              "      <td>7119</td>\n",
              "      <td>100</td>\n",
              "      <td>100</td>\n",
              "      <td>100</td>\n",
              "      <td>100</td>\n",
              "      <td>100</td>\n",
              "      <td>100</td>\n",
              "      <td>100</td>\n",
              "      <td>100</td>\n",
              "      <td>100</td>\n",
              "      <td>100</td>\n",
              "      <td>...</td>\n",
              "      <td>100</td>\n",
              "      <td>100</td>\n",
              "      <td>100</td>\n",
              "      <td>100</td>\n",
              "      <td>100</td>\n",
              "      <td>100</td>\n",
              "      <td>100</td>\n",
              "      <td>100</td>\n",
              "      <td>100</td>\n",
              "      <td>01022</td>\n",
              "    </tr>\n",
              "    <tr>\n",
              "      <td>7120</td>\n",
              "      <td>100</td>\n",
              "      <td>100</td>\n",
              "      <td>100</td>\n",
              "      <td>100</td>\n",
              "      <td>100</td>\n",
              "      <td>100</td>\n",
              "      <td>100</td>\n",
              "      <td>100</td>\n",
              "      <td>100</td>\n",
              "      <td>100</td>\n",
              "      <td>...</td>\n",
              "      <td>100</td>\n",
              "      <td>100</td>\n",
              "      <td>100</td>\n",
              "      <td>100</td>\n",
              "      <td>100</td>\n",
              "      <td>100</td>\n",
              "      <td>100</td>\n",
              "      <td>100</td>\n",
              "      <td>100</td>\n",
              "      <td>01102</td>\n",
              "    </tr>\n",
              "    <tr>\n",
              "      <td>7121</td>\n",
              "      <td>100</td>\n",
              "      <td>100</td>\n",
              "      <td>100</td>\n",
              "      <td>100</td>\n",
              "      <td>100</td>\n",
              "      <td>100</td>\n",
              "      <td>100</td>\n",
              "      <td>100</td>\n",
              "      <td>100</td>\n",
              "      <td>100</td>\n",
              "      <td>...</td>\n",
              "      <td>100</td>\n",
              "      <td>100</td>\n",
              "      <td>100</td>\n",
              "      <td>100</td>\n",
              "      <td>100</td>\n",
              "      <td>100</td>\n",
              "      <td>100</td>\n",
              "      <td>100</td>\n",
              "      <td>100</td>\n",
              "      <td>01112</td>\n",
              "    </tr>\n",
              "    <tr>\n",
              "      <td>7122</td>\n",
              "      <td>100</td>\n",
              "      <td>100</td>\n",
              "      <td>100</td>\n",
              "      <td>100</td>\n",
              "      <td>100</td>\n",
              "      <td>100</td>\n",
              "      <td>100</td>\n",
              "      <td>100</td>\n",
              "      <td>100</td>\n",
              "      <td>100</td>\n",
              "      <td>...</td>\n",
              "      <td>100</td>\n",
              "      <td>100</td>\n",
              "      <td>100</td>\n",
              "      <td>100</td>\n",
              "      <td>100</td>\n",
              "      <td>100</td>\n",
              "      <td>100</td>\n",
              "      <td>100</td>\n",
              "      <td>100</td>\n",
              "      <td>01072</td>\n",
              "    </tr>\n",
              "  </tbody>\n",
              "</table>\n",
              "<p>5 rows × 521 columns</p>\n",
              "</div>"
            ],
            "text/plain": [
              "      WAP001  WAP002  WAP003  WAP004  WAP005  WAP006  WAP007  WAP008  WAP009  \\\n",
              "4        100     100     100     100     100     100     100     100     100   \n",
              "7119     100     100     100     100     100     100     100     100     100   \n",
              "7120     100     100     100     100     100     100     100     100     100   \n",
              "7121     100     100     100     100     100     100     100     100     100   \n",
              "7122     100     100     100     100     100     100     100     100     100   \n",
              "\n",
              "      WAP010  ...  WAP512  WAP513  WAP514  WAP515  WAP516  WAP517  WAP518  \\\n",
              "4        100  ...     100     100     100     100     100     100     100   \n",
              "7119     100  ...     100     100     100     100     100     100     100   \n",
              "7120     100  ...     100     100     100     100     100     100     100   \n",
              "7121     100  ...     100     100     100     100     100     100     100   \n",
              "7122     100  ...     100     100     100     100     100     100     100   \n",
              "\n",
              "      WAP519  WAP520   u_id  \n",
              "4        100     100  01222  \n",
              "7119     100     100  01022  \n",
              "7120     100     100  01102  \n",
              "7121     100     100  01112  \n",
              "7122     100     100  01072  \n",
              "\n",
              "[5 rows x 521 columns]"
            ]
          },
          "metadata": {
            "tags": []
          },
          "execution_count": 55
        }
      ]
    },
    {
      "cell_type": "markdown",
      "metadata": {
        "id": "47m2V17Hf70p",
        "colab_type": "text"
      },
      "source": [
        "###### u_id etant généré comme une chaine de caractères il faut le convertir pour être reconu"
      ]
    },
    {
      "cell_type": "code",
      "metadata": {
        "id": "YTgO6F4xf70q",
        "colab_type": "code",
        "colab": {},
        "outputId": "868ee59f-23c8-40c2-9ace-f60856d4b87d"
      },
      "source": [
        "trainingDF_B0.info()"
      ],
      "execution_count": 0,
      "outputs": [
        {
          "output_type": "stream",
          "text": [
            "<class 'pandas.core.frame.DataFrame'>\n",
            "Int64Index: 5249 entries, 4 to 18497\n",
            "Columns: 521 entries, WAP001 to u_id\n",
            "dtypes: category(1), int64(520)\n",
            "memory usage: 21.0 MB\n"
          ],
          "name": "stdout"
        }
      ]
    },
    {
      "cell_type": "code",
      "metadata": {
        "id": "pBjsGgtpf70r",
        "colab_type": "code",
        "colab": {},
        "outputId": "9b096571-30bb-4318-9475-08f94a14556f"
      },
      "source": [
        "trainingDF_B0['u_id'] = pd.Categorical(trainingDF_B0['u_id'])"
      ],
      "execution_count": 0,
      "outputs": [
        {
          "output_type": "stream",
          "text": [
            "C:\\Users\\Massinissa\\AppData\\Roaming\\Python\\Python37\\site-packages\\ipykernel_launcher.py:1: SettingWithCopyWarning: \n",
            "A value is trying to be set on a copy of a slice from a DataFrame.\n",
            "Try using .loc[row_indexer,col_indexer] = value instead\n",
            "\n",
            "See the caveats in the documentation: http://pandas.pydata.org/pandas-docs/stable/user_guide/indexing.html#returning-a-view-versus-a-copy\n",
            "  \"\"\"Entry point for launching an IPython kernel.\n"
          ],
          "name": "stderr"
        }
      ]
    },
    {
      "cell_type": "code",
      "metadata": {
        "id": "FGfab0iPf70t",
        "colab_type": "code",
        "colab": {}
      },
      "source": [
        "# sauvegarder le fichier csv\n",
        "trainingDF_B0.to_csv('trainingDF_B0.csv')"
      ],
      "execution_count": 0,
      "outputs": []
    },
    {
      "cell_type": "code",
      "metadata": {
        "id": "rT6fe8s_f70v",
        "colab_type": "code",
        "colab": {}
      },
      "source": [
        "trainingDF_B0 = pd.read_csv('trainingDF_B0.csv', header = 0)"
      ],
      "execution_count": 0,
      "outputs": []
    },
    {
      "cell_type": "code",
      "metadata": {
        "id": "vvpddYx7f70x",
        "colab_type": "code",
        "colab": {}
      },
      "source": [
        "del trainingDF_B0['Unnamed: 0']"
      ],
      "execution_count": 0,
      "outputs": []
    },
    {
      "cell_type": "code",
      "metadata": {
        "scrolled": true,
        "id": "Ey5AiV3Lf70z",
        "colab_type": "code",
        "colab": {},
        "outputId": "65f9608d-e5e1-44c2-a316-49f7fe33062c"
      },
      "source": [
        "trainingDF_B0.head()"
      ],
      "execution_count": 0,
      "outputs": [
        {
          "output_type": "execute_result",
          "data": {
            "text/html": [
              "<div>\n",
              "<style scoped>\n",
              "    .dataframe tbody tr th:only-of-type {\n",
              "        vertical-align: middle;\n",
              "    }\n",
              "\n",
              "    .dataframe tbody tr th {\n",
              "        vertical-align: top;\n",
              "    }\n",
              "\n",
              "    .dataframe thead th {\n",
              "        text-align: right;\n",
              "    }\n",
              "</style>\n",
              "<table border=\"1\" class=\"dataframe\">\n",
              "  <thead>\n",
              "    <tr style=\"text-align: right;\">\n",
              "      <th></th>\n",
              "      <th>WAP001</th>\n",
              "      <th>WAP002</th>\n",
              "      <th>WAP003</th>\n",
              "      <th>WAP004</th>\n",
              "      <th>WAP005</th>\n",
              "      <th>WAP006</th>\n",
              "      <th>WAP007</th>\n",
              "      <th>WAP008</th>\n",
              "      <th>WAP009</th>\n",
              "      <th>WAP010</th>\n",
              "      <th>...</th>\n",
              "      <th>WAP512</th>\n",
              "      <th>WAP513</th>\n",
              "      <th>WAP514</th>\n",
              "      <th>WAP515</th>\n",
              "      <th>WAP516</th>\n",
              "      <th>WAP517</th>\n",
              "      <th>WAP518</th>\n",
              "      <th>WAP519</th>\n",
              "      <th>WAP520</th>\n",
              "      <th>u_id</th>\n",
              "    </tr>\n",
              "  </thead>\n",
              "  <tbody>\n",
              "    <tr>\n",
              "      <td>0</td>\n",
              "      <td>100</td>\n",
              "      <td>100</td>\n",
              "      <td>100</td>\n",
              "      <td>100</td>\n",
              "      <td>100</td>\n",
              "      <td>100</td>\n",
              "      <td>100</td>\n",
              "      <td>100</td>\n",
              "      <td>100</td>\n",
              "      <td>100</td>\n",
              "      <td>...</td>\n",
              "      <td>100</td>\n",
              "      <td>100</td>\n",
              "      <td>100</td>\n",
              "      <td>100</td>\n",
              "      <td>100</td>\n",
              "      <td>100</td>\n",
              "      <td>100</td>\n",
              "      <td>100</td>\n",
              "      <td>100</td>\n",
              "      <td>1222</td>\n",
              "    </tr>\n",
              "    <tr>\n",
              "      <td>1</td>\n",
              "      <td>100</td>\n",
              "      <td>100</td>\n",
              "      <td>100</td>\n",
              "      <td>100</td>\n",
              "      <td>100</td>\n",
              "      <td>100</td>\n",
              "      <td>100</td>\n",
              "      <td>100</td>\n",
              "      <td>100</td>\n",
              "      <td>100</td>\n",
              "      <td>...</td>\n",
              "      <td>100</td>\n",
              "      <td>100</td>\n",
              "      <td>100</td>\n",
              "      <td>100</td>\n",
              "      <td>100</td>\n",
              "      <td>100</td>\n",
              "      <td>100</td>\n",
              "      <td>100</td>\n",
              "      <td>100</td>\n",
              "      <td>1022</td>\n",
              "    </tr>\n",
              "    <tr>\n",
              "      <td>2</td>\n",
              "      <td>100</td>\n",
              "      <td>100</td>\n",
              "      <td>100</td>\n",
              "      <td>100</td>\n",
              "      <td>100</td>\n",
              "      <td>100</td>\n",
              "      <td>100</td>\n",
              "      <td>100</td>\n",
              "      <td>100</td>\n",
              "      <td>100</td>\n",
              "      <td>...</td>\n",
              "      <td>100</td>\n",
              "      <td>100</td>\n",
              "      <td>100</td>\n",
              "      <td>100</td>\n",
              "      <td>100</td>\n",
              "      <td>100</td>\n",
              "      <td>100</td>\n",
              "      <td>100</td>\n",
              "      <td>100</td>\n",
              "      <td>1102</td>\n",
              "    </tr>\n",
              "    <tr>\n",
              "      <td>3</td>\n",
              "      <td>100</td>\n",
              "      <td>100</td>\n",
              "      <td>100</td>\n",
              "      <td>100</td>\n",
              "      <td>100</td>\n",
              "      <td>100</td>\n",
              "      <td>100</td>\n",
              "      <td>100</td>\n",
              "      <td>100</td>\n",
              "      <td>100</td>\n",
              "      <td>...</td>\n",
              "      <td>100</td>\n",
              "      <td>100</td>\n",
              "      <td>100</td>\n",
              "      <td>100</td>\n",
              "      <td>100</td>\n",
              "      <td>100</td>\n",
              "      <td>100</td>\n",
              "      <td>100</td>\n",
              "      <td>100</td>\n",
              "      <td>1112</td>\n",
              "    </tr>\n",
              "    <tr>\n",
              "      <td>4</td>\n",
              "      <td>100</td>\n",
              "      <td>100</td>\n",
              "      <td>100</td>\n",
              "      <td>100</td>\n",
              "      <td>100</td>\n",
              "      <td>100</td>\n",
              "      <td>100</td>\n",
              "      <td>100</td>\n",
              "      <td>100</td>\n",
              "      <td>100</td>\n",
              "      <td>...</td>\n",
              "      <td>100</td>\n",
              "      <td>100</td>\n",
              "      <td>100</td>\n",
              "      <td>100</td>\n",
              "      <td>100</td>\n",
              "      <td>100</td>\n",
              "      <td>100</td>\n",
              "      <td>100</td>\n",
              "      <td>100</td>\n",
              "      <td>1072</td>\n",
              "    </tr>\n",
              "  </tbody>\n",
              "</table>\n",
              "<p>5 rows × 521 columns</p>\n",
              "</div>"
            ],
            "text/plain": [
              "   WAP001  WAP002  WAP003  WAP004  WAP005  WAP006  WAP007  WAP008  WAP009  \\\n",
              "0     100     100     100     100     100     100     100     100     100   \n",
              "1     100     100     100     100     100     100     100     100     100   \n",
              "2     100     100     100     100     100     100     100     100     100   \n",
              "3     100     100     100     100     100     100     100     100     100   \n",
              "4     100     100     100     100     100     100     100     100     100   \n",
              "\n",
              "   WAP010  ...  WAP512  WAP513  WAP514  WAP515  WAP516  WAP517  WAP518  \\\n",
              "0     100  ...     100     100     100     100     100     100     100   \n",
              "1     100  ...     100     100     100     100     100     100     100   \n",
              "2     100  ...     100     100     100     100     100     100     100   \n",
              "3     100  ...     100     100     100     100     100     100     100   \n",
              "4     100  ...     100     100     100     100     100     100     100   \n",
              "\n",
              "   WAP519  WAP520  u_id  \n",
              "0     100     100  1222  \n",
              "1     100     100  1022  \n",
              "2     100     100  1102  \n",
              "3     100     100  1112  \n",
              "4     100     100  1072  \n",
              "\n",
              "[5 rows x 521 columns]"
            ]
          },
          "metadata": {
            "tags": []
          },
          "execution_count": 59
        }
      ]
    },
    {
      "cell_type": "markdown",
      "metadata": {
        "id": "Y0PqoEyBf701",
        "colab_type": "text"
      },
      "source": [
        "# Modeles utilisés"
      ]
    },
    {
      "cell_type": "code",
      "metadata": {
        "id": "02ihuU0uf701",
        "colab_type": "code",
        "colab": {}
      },
      "source": [
        "# variables pour le Building 0\n",
        "X = trainingDF_B0.iloc[:, 0:520]\n",
        "y = trainingDF_B0.iloc[:, -1]"
      ],
      "execution_count": 0,
      "outputs": []
    },
    {
      "cell_type": "code",
      "metadata": {
        "id": "l7hWo2Glf703",
        "colab_type": "code",
        "colab": {}
      },
      "source": [
        "# Departager les données en 80% pour train et 20% pour test\n",
        "X_train, X_test, y_train, y_test = train_test_split(X, y, test_size=0.2, random_state=0)"
      ],
      "execution_count": 0,
      "outputs": []
    },
    {
      "cell_type": "code",
      "metadata": {
        "id": "x3ooVsTff704",
        "colab_type": "code",
        "colab": {}
      },
      "source": [
        "# Types d'algorithme utilisé\n",
        "\n",
        "RF =  RandomForestClassifier(n_estimators=500, max_depth=70)\n",
        "\n",
        "kNN = KNeighborsClassifier()\n",
        "\n",
        "Gaussian = GaussianNB()"
      ],
      "execution_count": 0,
      "outputs": []
    },
    {
      "cell_type": "markdown",
      "metadata": {
        "id": "bFd1LOw0f706",
        "colab_type": "text"
      },
      "source": [
        "### Random Forest"
      ]
    },
    {
      "cell_type": "code",
      "metadata": {
        "id": "0uqM9W2Xf706",
        "colab_type": "code",
        "colab": {},
        "outputId": "b22e30fa-928d-48f2-8beb-9aef3096c0b7"
      },
      "source": [
        "RF.fit(X_train, y_train)"
      ],
      "execution_count": 0,
      "outputs": [
        {
          "output_type": "execute_result",
          "data": {
            "text/plain": [
              "RandomForestClassifier(bootstrap=True, class_weight=None, criterion='gini',\n",
              "                       max_depth=70, max_features='auto', max_leaf_nodes=None,\n",
              "                       min_impurity_decrease=0.0, min_impurity_split=None,\n",
              "                       min_samples_leaf=1, min_samples_split=2,\n",
              "                       min_weight_fraction_leaf=0.0, n_estimators=500,\n",
              "                       n_jobs=None, oob_score=False, random_state=None,\n",
              "                       verbose=0, warm_start=False)"
            ]
          },
          "metadata": {
            "tags": []
          },
          "execution_count": 71
        }
      ]
    },
    {
      "cell_type": "code",
      "metadata": {
        "id": "-eMk3jfuf708",
        "colab_type": "code",
        "colab": {}
      },
      "source": [
        "RF_pred = RF.predict(X_test)"
      ],
      "execution_count": 0,
      "outputs": []
    },
    {
      "cell_type": "code",
      "metadata": {
        "id": "MP6wWyKMf70-",
        "colab_type": "code",
        "colab": {}
      },
      "source": [
        "# evaluation performance \n",
        "RF_cm = confusion_matrix(y_test, RF_pred)"
      ],
      "execution_count": 0,
      "outputs": []
    },
    {
      "cell_type": "code",
      "metadata": {
        "id": "Yw7g8T0Rf71A",
        "colab_type": "code",
        "colab": {},
        "outputId": "b69498c3-1302-4d64-bc3a-265a93b1b703"
      },
      "source": [
        "# Accuracy\n",
        "print('Accuracy:\\n',accuracy_score(y_test, RF_pred)*100)\n",
        "print()"
      ],
      "execution_count": 0,
      "outputs": [
        {
          "output_type": "stream",
          "text": [
            "Accuracy:\n",
            " 78.19047619047619\n",
            "\n"
          ],
          "name": "stdout"
        }
      ]
    },
    {
      "cell_type": "markdown",
      "metadata": {
        "id": "KgDUpbiuf71B",
        "colab_type": "text"
      },
      "source": [
        "### k-Nearest Neighbor"
      ]
    },
    {
      "cell_type": "code",
      "metadata": {
        "id": "KqIztUG6f71C",
        "colab_type": "code",
        "colab": {},
        "outputId": "bc8cf674-36a2-4c97-9827-76a50034637e"
      },
      "source": [
        "kNN.fit(X_train, y_train)"
      ],
      "execution_count": 0,
      "outputs": [
        {
          "output_type": "execute_result",
          "data": {
            "text/plain": [
              "KNeighborsClassifier(algorithm='auto', leaf_size=30, metric='minkowski',\n",
              "                     metric_params=None, n_jobs=None, n_neighbors=5, p=2,\n",
              "                     weights='uniform')"
            ]
          },
          "metadata": {
            "tags": []
          },
          "execution_count": 76
        }
      ]
    },
    {
      "cell_type": "code",
      "metadata": {
        "id": "V5sHccBRf71D",
        "colab_type": "code",
        "colab": {}
      },
      "source": [
        "kNN_pred = kNN.predict(X_test)"
      ],
      "execution_count": 0,
      "outputs": []
    },
    {
      "cell_type": "code",
      "metadata": {
        "id": "0hvT8I0Ff71F",
        "colab_type": "code",
        "colab": {}
      },
      "source": [
        "# evaluation performance \n",
        "kNN_cm = confusion_matrix(y_test, kNN_pred)"
      ],
      "execution_count": 0,
      "outputs": []
    },
    {
      "cell_type": "code",
      "metadata": {
        "scrolled": true,
        "id": "XeT1UGpgf71H",
        "colab_type": "code",
        "colab": {},
        "outputId": "dbcdd3e7-34a9-463a-c406-50e88cde0c7f"
      },
      "source": [
        "# Accuracy\n",
        "print('Accuracy:\\n',accuracy_score(y_test, kNN_pred)*100)\n",
        "print()"
      ],
      "execution_count": 0,
      "outputs": [
        {
          "output_type": "stream",
          "text": [
            "Accuracy:\n",
            " 52.476190476190474\n",
            "\n"
          ],
          "name": "stdout"
        }
      ]
    },
    {
      "cell_type": "markdown",
      "metadata": {
        "id": "_giplvIof71J",
        "colab_type": "text"
      },
      "source": [
        "### Gaussian Naive Bayes"
      ]
    },
    {
      "cell_type": "code",
      "metadata": {
        "id": "fZUFNGu-f71K",
        "colab_type": "code",
        "colab": {},
        "outputId": "5a72c1cf-f033-470b-8000-1ce0f0a93ddc"
      },
      "source": [
        "Gaussian.fit(X_train, y_train)"
      ],
      "execution_count": 0,
      "outputs": [
        {
          "output_type": "execute_result",
          "data": {
            "text/plain": [
              "GaussianNB(priors=None, var_smoothing=1e-09)"
            ]
          },
          "metadata": {
            "tags": []
          },
          "execution_count": 80
        }
      ]
    },
    {
      "cell_type": "code",
      "metadata": {
        "id": "FS_3jaJDf71M",
        "colab_type": "code",
        "colab": {}
      },
      "source": [
        "Gaussian_pred = Gaussian.predict(X_test)"
      ],
      "execution_count": 0,
      "outputs": []
    },
    {
      "cell_type": "code",
      "metadata": {
        "id": "DKi0t5h1f71O",
        "colab_type": "code",
        "colab": {}
      },
      "source": [
        "# evaluation performance \n",
        "Gaussian_cm = confusion_matrix(y_test, Gaussian_pred)"
      ],
      "execution_count": 0,
      "outputs": []
    },
    {
      "cell_type": "code",
      "metadata": {
        "scrolled": true,
        "id": "2O-SxWJBf71P",
        "colab_type": "code",
        "colab": {},
        "outputId": "7412410b-c711-4d8a-b8de-d8210e3be676"
      },
      "source": [
        "# Accuracy\n",
        "print('Accuracy:\\n',accuracy_score(y_test, Gaussian_pred)*100)\n",
        "print()"
      ],
      "execution_count": 0,
      "outputs": [
        {
          "output_type": "stream",
          "text": [
            "Accuracy:\n",
            " 48.47619047619048\n",
            "\n"
          ],
          "name": "stdout"
        }
      ]
    },
    {
      "cell_type": "markdown",
      "metadata": {
        "id": "NOOGNgMBf71S",
        "colab_type": "text"
      },
      "source": [
        "### Meilleur modele:\n",
        "\n",
        "**Random Forest avec parametres:**\n",
        "\n",
        "* n_estimators = 500 arbres\n",
        "* max_depth = 70 profondeur\n",
        "\n",
        "Accuracy = 78.19% (Building 0)\n"
      ]
    }
  ]
}
